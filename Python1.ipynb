{
  "nbformat": 4,
  "nbformat_minor": 0,
  "metadata": {
    "colab": {
      "provenance": [],
      "authorship_tag": "ABX9TyMWIRJkOWRb95QI7Np7R9GT",
      "include_colab_link": true
    },
    "kernelspec": {
      "name": "python3",
      "display_name": "Python 3"
    },
    "language_info": {
      "name": "python"
    }
  },
  "cells": [
    {
      "cell_type": "markdown",
      "metadata": {
        "id": "view-in-github",
        "colab_type": "text"
      },
      "source": [
        "<a href=\"https://colab.research.google.com/github/Sindhu0318/PYTHON-/blob/main/Python1.ipynb\" target=\"_parent\"><img src=\"https://colab.research.google.com/assets/colab-badge.svg\" alt=\"Open In Colab\"/></a>"
      ]
    },
    {
      "cell_type": "code",
      "execution_count": null,
      "metadata": {
        "colab": {
          "base_uri": "https://localhost:8080/"
        },
        "id": "2dAc4ywg5LIG",
        "outputId": "37d88adb-40f4-4c18-b692-71797120e1ab"
      },
      "outputs": [
        {
          "output_type": "stream",
          "name": "stdout",
          "text": [
            "3\n"
          ]
        },
        {
          "output_type": "execute_result",
          "data": {
            "text/plain": [
              "int"
            ]
          },
          "metadata": {},
          "execution_count": 1
        }
      ],
      "source": [
        "X=3\n",
        "print(X)\n",
        "type(X)"
      ]
    },
    {
      "cell_type": "code",
      "source": [
        "S=int(input())\n",
        "t=int(input())\n",
        "if(S%2==0 and t%4==0):\n",
        "    print(\"fizzbuzz\")\n",
        "elif(S%2==0):\n",
        "    print(\"buzz\")\n",
        "elif(t%4==0):\n",
        "    print(\"fizz\")\n",
        "else:\n",
        "    print(\"none\")"
      ],
      "metadata": {
        "colab": {
          "base_uri": "https://localhost:8080/"
        },
        "id": "t4-sdoE07cw-",
        "outputId": "9d94dd33-f180-43cb-e67d-30e10c994bab"
      },
      "execution_count": null,
      "outputs": [
        {
          "output_type": "stream",
          "name": "stdout",
          "text": [
            "5\n",
            "8\n",
            "fizz\n"
          ]
        }
      ]
    },
    {
      "cell_type": "code",
      "source": [
        "X=1j\n",
        "a=type(X)\n",
        "print(a)"
      ],
      "metadata": {
        "colab": {
          "base_uri": "https://localhost:8080/"
        },
        "id": "ImH3vFPt5ZW4",
        "outputId": "028d9470-abf6-4e38-982e-ddf338c8ad0d"
      },
      "execution_count": null,
      "outputs": [
        {
          "output_type": "stream",
          "name": "stdout",
          "text": [
            "<class 'complex'>\n"
          ]
        }
      ]
    },
    {
      "cell_type": "code",
      "source": [
        "X=4\n",
        "X=5\n",
        "print(X)"
      ],
      "metadata": {
        "colab": {
          "base_uri": "https://localhost:8080/"
        },
        "id": "w0bQ0nkg6CsU",
        "outputId": "3f6c141c-d5f5-44b6-bb45-90c83054b214"
      },
      "execution_count": null,
      "outputs": [
        {
          "output_type": "stream",
          "name": "stdout",
          "text": [
            "5\n"
          ]
        }
      ]
    },
    {
      "cell_type": "code",
      "source": [
        "X=4\n",
        "y=5\n",
        "print(X+y)"
      ],
      "metadata": {
        "colab": {
          "base_uri": "https://localhost:8080/"
        },
        "id": "pVJ7hOFl6VXH",
        "outputId": "109c92f9-ddba-46b1-ec4c-50717c1a3db3"
      },
      "execution_count": null,
      "outputs": [
        {
          "output_type": "stream",
          "name": "stdout",
          "text": [
            "9\n"
          ]
        }
      ]
    },
    {
      "cell_type": "code",
      "source": [
        "X=int(3)\n",
        "Y=float(3)\n",
        "print(X)\n",
        "print(Y)"
      ],
      "metadata": {
        "colab": {
          "base_uri": "https://localhost:8080/"
        },
        "id": "bvF4BO_g6mPc",
        "outputId": "f978143d-84b4-4341-dedc-b9fcd1d3d33a"
      },
      "execution_count": null,
      "outputs": [
        {
          "output_type": "stream",
          "name": "stdout",
          "text": [
            "3\n",
            "3.0\n"
          ]
        }
      ]
    },
    {
      "cell_type": "code",
      "source": [
        "\n",
        "Area of rectangle\n",
        "a=3\n",
        "b=5\n",
        "area=(a*b)\n",
        "print(area)"
      ],
      "metadata": {
        "colab": {
          "base_uri": "https://localhost:8080/"
        },
        "id": "XZaaOB1vCTYE",
        "outputId": "da7ccb81-d4a7-45b9-fb8c-8423878938ed"
      },
      "execution_count": null,
      "outputs": [
        {
          "output_type": "stream",
          "name": "stdout",
          "text": [
            "15\n"
          ]
        }
      ]
    },
    {
      "cell_type": "code",
      "source": [
        "a=int(input())\n",
        "if(a<10):\n",
        "    print(\"true\")\n",
        "else:\n",
        "    print(\"false\")"
      ],
      "metadata": {
        "colab": {
          "base_uri": "https://localhost:8080/"
        },
        "id": "nDMMDI8ECkUm",
        "outputId": "71407955-aaea-4c51-e1b6-91c00c2fb873"
      },
      "execution_count": null,
      "outputs": [
        {
          "output_type": "stream",
          "name": "stdout",
          "text": [
            "6\n",
            "true\n"
          ]
        }
      ]
    },
    {
      "cell_type": "code",
      "source": [
        "\n",
        "a=input()\n",
        "if(a==\"green\"):\n",
        "   print(\"found\")\n",
        "else:\n",
        "   print(\"not found\")"
      ],
      "metadata": {
        "colab": {
          "base_uri": "https://localhost:8080/"
        },
        "id": "wyY_kzxqDRlq",
        "outputId": "0a298268-1b86-4252-b747-e3c2a84c19d5"
      },
      "execution_count": null,
      "outputs": [
        {
          "output_type": "stream",
          "name": "stdout",
          "text": [
            "green\n",
            "found\n"
          ]
        }
      ]
    },
    {
      "cell_type": "code",
      "source": [
        "a=int(input())\n",
        "if(a>10):\n",
        "   print(\"greater\")\n",
        "elif(a==10):\n",
        "   print(\"equals to\")\n",
        "else:\n",
        "   print(\"lesser\")"
      ],
      "metadata": {
        "colab": {
          "base_uri": "https://localhost:8080/"
        },
        "id": "s3o-ElYcFSbW",
        "outputId": "16bfcfef-e854-4a2c-8561-b015e9577a77"
      },
      "execution_count": null,
      "outputs": [
        {
          "output_type": "stream",
          "name": "stdout",
          "text": [
            "19\n",
            "greater\n"
          ]
        }
      ]
    },
    {
      "cell_type": "code",
      "source": [
        "a=int(input())\n",
        "if(a<20):\n",
        "   print(\"charging\")\n",
        "elif(a>50,==50)\n",
        "   print(\"use limit\")"
      ],
      "metadata": {
        "id": "OCXtLtJgHZpj"
      },
      "execution_count": null,
      "outputs": []
    },
    {
      "cell_type": "code",
      "source": [
        "a=int(input (\"enter second number:\"))\n",
        "b=int(input (\"enter second number:\"))\n",
        "c=input(\"enter operant\")\n",
        "if(c==\"+\"):\n",
        "    print(\"sum is\",a+b)\n",
        "elif(c==\"-\"):\n",
        "    print (\"diff is\",a-b)\n",
        "elif(c==\"*\"):\n",
        "    print(\"pro is\", a*b)\n",
        "elif(c==\"/\"):\n",
        "    print (\"divi is\", a/b)\n",
        "elif(c==\"%\"):\n",
        "    print(\"per is\",a%b)"
      ],
      "metadata": {
        "colab": {
          "base_uri": "https://localhost:8080/"
        },
        "id": "1gA4Ko83UiJk",
        "outputId": "6862ef6e-67ec-4da5-ca6d-0bc3086f5f54"
      },
      "execution_count": null,
      "outputs": [
        {
          "output_type": "stream",
          "name": "stdout",
          "text": [
            "enter second number:6\n",
            "enter second number:8\n",
            "enter operant*\n",
            "pro is 48\n"
          ]
        }
      ]
    },
    {
      "cell_type": "code",
      "source": [
        "n=int(input())\n",
        "for i in range (n):\n",
        "   for j in range (n):\n",
        "      print(\"*\", end=\"\")\n",
        "   print()"
      ],
      "metadata": {
        "colab": {
          "base_uri": "https://localhost:8080/"
        },
        "id": "yitEk9X_HAGj",
        "outputId": "35a0b880-4de4-478e-eadc-b80762716744"
      },
      "execution_count": null,
      "outputs": [
        {
          "output_type": "stream",
          "name": "stdout",
          "text": [
            "5\n",
            "*****\n",
            "*****\n",
            "*****\n",
            "*****\n",
            "*****\n"
          ]
        }
      ]
    },
    {
      "cell_type": "code",
      "source": [
        "n=int(input())\n",
        "for i in range (n):\n",
        "    for j in range (n):\n",
        "        print(\"12345\", end=\"\")\n",
        "    print()"
      ],
      "metadata": {
        "colab": {
          "base_uri": "https://localhost:8080/"
        },
        "id": "aiG8E3cQLJsF",
        "outputId": "4066203e-beed-446c-efef-3ac9c5697ae4"
      },
      "execution_count": null,
      "outputs": [
        {
          "output_type": "stream",
          "name": "stdout",
          "text": [
            "4\n",
            "12345123451234512345\n",
            "12345123451234512345\n",
            "12345123451234512345\n",
            "12345123451234512345\n"
          ]
        }
      ]
    },
    {
      "cell_type": "code",
      "source": [
        "for i in range (1,9):\n",
        "    for j in range (1,9):\n",
        "        print(\"💗\",end=\"\")\n",
        "    print()"
      ],
      "metadata": {
        "colab": {
          "base_uri": "https://localhost:8080/"
        },
        "id": "piDuDBHfMBO5",
        "outputId": "2a5deca2-72c4-4c29-fb99-655d1c947399"
      },
      "execution_count": null,
      "outputs": [
        {
          "output_type": "stream",
          "name": "stdout",
          "text": [
            "💗💗💗💗💗💗💗💗\n",
            "💗💗💗💗💗💗💗💗\n",
            "💗💗💗💗💗💗💗💗\n",
            "💗💗💗💗💗💗💗💗\n",
            "💗💗💗💗💗💗💗💗\n",
            "💗💗💗💗💗💗💗💗\n",
            "💗💗💗💗💗💗💗💗\n",
            "💗💗💗💗💗💗💗💗\n"
          ]
        }
      ]
    },
    {
      "cell_type": "code",
      "source": [
        "\n",
        "n=int(input())\n",
        "for i in range(n-1):\n",
        "    for j in range(n-1):\n",
        "        print(\"*\", end=\"\")\n",
        "    print()"
      ],
      "metadata": {
        "colab": {
          "base_uri": "https://localhost:8080/"
        },
        "id": "weQ6-GXIeSvx",
        "outputId": "4ad2783a-2551-4b23-d3e5-13c33c2fd246"
      },
      "execution_count": null,
      "outputs": [
        {
          "output_type": "stream",
          "name": "stdout",
          "text": [
            "5\n",
            "****\n",
            "****\n",
            "****\n",
            "****\n"
          ]
        }
      ]
    },
    {
      "cell_type": "code",
      "source": [
        "\n",
        "for x in range(65,70):\n",
        "  for u in range(65,x+1):\n",
        "    print(chr(x),end=\" \")\n",
        "  print()"
      ],
      "metadata": {
        "colab": {
          "base_uri": "https://localhost:8080/"
        },
        "id": "Bz3QpTbKQvEJ",
        "outputId": "fc21a18e-7b32-4439-9c44-21e5568bd107"
      },
      "execution_count": null,
      "outputs": [
        {
          "output_type": "stream",
          "name": "stdout",
          "text": [
            "A \n",
            "B B \n",
            "C C C \n",
            "D D D D \n",
            "E E E E E \n"
          ]
        }
      ]
    },
    {
      "cell_type": "code",
      "source": [
        "\n",
        "rows = 5\n",
        "for i in range(rows):\n",
        "    for j in range(i + 1):\n",
        "        print(\"*\", end=\" \")\n",
        "    print(\"\")"
      ],
      "metadata": {
        "colab": {
          "base_uri": "https://localhost:8080/"
        },
        "id": "K1yJtbeLQzIT",
        "outputId": "1384ab08-2915-4a20-fe11-da676e671bad"
      },
      "execution_count": null,
      "outputs": [
        {
          "output_type": "stream",
          "name": "stdout",
          "text": [
            "* \n",
            "* * \n",
            "* * * \n",
            "* * * * \n",
            "* * * * * \n"
          ]
        }
      ]
    },
    {
      "cell_type": "code",
      "source": [
        "n=10\n",
        "for x in range(n-1,-1,-1):\n",
        "    for j in range(x-1):\n",
        "         print(\"*\", end=\"\")\n",
        "    print()"
      ],
      "metadata": {
        "colab": {
          "base_uri": "https://localhost:8080/"
        },
        "id": "_2eQeN8jRGB0",
        "outputId": "f4a08f84-43c0-47d6-b6f3-57e5bc4cfb5d"
      },
      "execution_count": null,
      "outputs": [
        {
          "output_type": "stream",
          "name": "stdout",
          "text": [
            "********\n",
            "*******\n",
            "******\n",
            "*****\n",
            "****\n",
            "***\n",
            "**\n",
            "*\n",
            "\n",
            "\n"
          ]
        }
      ]
    },
    {
      "cell_type": "code",
      "source": [
        "\n",
        "i=0\n",
        "n=1\n",
        "while(i<5):\n",
        "    print(i)\n",
        "    i+=1"
      ],
      "metadata": {
        "id": "sD-_3P3ySwti",
        "colab": {
          "base_uri": "https://localhost:8080/"
        },
        "outputId": "2e486692-414f-4a94-d74f-78757bb7c4da"
      },
      "execution_count": null,
      "outputs": [
        {
          "output_type": "stream",
          "name": "stdout",
          "text": [
            "0\n",
            "1\n",
            "2\n",
            "3\n",
            "4\n"
          ]
        }
      ]
    },
    {
      "cell_type": "code",
      "source": [
        "for i in range (1,11):\n",
        "   print(i)"
      ],
      "metadata": {
        "colab": {
          "base_uri": "https://localhost:8080/"
        },
        "id": "3VPSpDN9iALf",
        "outputId": "e9591e61-4599-4518-f98b-3189e42ee3ec"
      },
      "execution_count": null,
      "outputs": [
        {
          "output_type": "stream",
          "name": "stdout",
          "text": [
            "1\n",
            "2\n",
            "3\n",
            "4\n",
            "5\n",
            "6\n",
            "7\n",
            "8\n",
            "9\n",
            "10\n"
          ]
        }
      ]
    },
    {
      "cell_type": "code",
      "source": [
        "for i in range (6):\n",
        "    if (i==2):\n",
        "        continue\n",
        "    print(i)"
      ],
      "metadata": {
        "colab": {
          "base_uri": "https://localhost:8080/"
        },
        "id": "KAJUuqn1iOxk",
        "outputId": "f66578bf-41e2-484e-ecd0-24549c1f36c5"
      },
      "execution_count": null,
      "outputs": [
        {
          "output_type": "stream",
          "name": "stdout",
          "text": [
            "0\n",
            "1\n",
            "3\n",
            "4\n",
            "5\n"
          ]
        }
      ]
    },
    {
      "cell_type": "code",
      "source": [
        "for i in range (6):\n",
        "    if i==4:\n",
        "       break\n",
        "    print(i)"
      ],
      "metadata": {
        "colab": {
          "base_uri": "https://localhost:8080/"
        },
        "id": "vLpxkogPjxI0",
        "outputId": "72c3ab92-cbd6-4fef-f898-4a89f274a74a"
      },
      "execution_count": null,
      "outputs": [
        {
          "output_type": "stream",
          "name": "stdout",
          "text": [
            "0\n",
            "1\n",
            "2\n",
            "3\n"
          ]
        }
      ]
    }
  ]
}