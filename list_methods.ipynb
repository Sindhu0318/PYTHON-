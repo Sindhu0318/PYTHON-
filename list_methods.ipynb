{
  "nbformat": 4,
  "nbformat_minor": 0,
  "metadata": {
    "colab": {
      "provenance": [],
      "authorship_tag": "ABX9TyP/o2+N3OnlVXbwCBx7RiHX",
      "include_colab_link": true
    },
    "kernelspec": {
      "name": "python3",
      "display_name": "Python 3"
    },
    "language_info": {
      "name": "python"
    }
  },
  "cells": [
    {
      "cell_type": "markdown",
      "metadata": {
        "id": "view-in-github",
        "colab_type": "text"
      },
      "source": [
        "<a href=\"https://colab.research.google.com/github/Sindhu0318/PYTHON-/blob/main/list_methods.ipynb\" target=\"_parent\"><img src=\"https://colab.research.google.com/assets/colab-badge.svg\" alt=\"Open In Colab\"/></a>"
      ]
    },
    {
      "cell_type": "code",
      "execution_count": null,
      "metadata": {
        "colab": {
          "base_uri": "https://localhost:8080/"
        },
        "id": "7d9JUAVNM2Jy",
        "outputId": "943e1f1e-7e27-4d80-ab45-466315feb133"
      },
      "outputs": [
        {
          "output_type": "stream",
          "name": "stdout",
          "text": [
            "['apples', 'banana', 'grapes', 'cherry']\n"
          ]
        }
      ],
      "source": [
        "fruits=['apples','banana','grapes']\n",
        "fruits.append('cherry')\n",
        "print(fruits)"
      ]
    },
    {
      "cell_type": "code",
      "source": [
        "names=['jhon','ramya','mounika']\n",
        "cars=['BMW','audi','ford']\n",
        "names.extend(cars)\n",
        "print(names)"
      ],
      "metadata": {
        "colab": {
          "base_uri": "https://localhost:8080/"
        },
        "id": "_E85GUxbOJJn",
        "outputId": "e3dbc2e2-848d-40cf-9e47-dc6acb45a86a"
      },
      "execution_count": null,
      "outputs": [
        {
          "output_type": "stream",
          "name": "stdout",
          "text": [
            "['jhon', 'ramya', 'mounika', 'BMW', 'audi', 'ford']\n"
          ]
        }
      ]
    },
    {
      "cell_type": "code",
      "source": [
        "fruits=['cherry','apple','banana']\n",
        "fruits.insert(2,'carrot')\n",
        "print(fruits)"
      ],
      "metadata": {
        "colab": {
          "base_uri": "https://localhost:8080/"
        },
        "id": "Et46CkUBPFh4",
        "outputId": "190df995-bd3a-4bcb-e711-abf8c6c6792f"
      },
      "execution_count": null,
      "outputs": [
        {
          "output_type": "stream",
          "name": "stdout",
          "text": [
            "['cherry', 'apple', 'carrot', 'banana']\n"
          ]
        }
      ]
    },
    {
      "cell_type": "code",
      "source": [
        "cars=['ford','audi','BMW']\n",
        "cars.pop(0)\n",
        "print(cars)"
      ],
      "metadata": {
        "colab": {
          "base_uri": "https://localhost:8080/"
        },
        "id": "lfULm-VHPxx7",
        "outputId": "26a09aed-78b9-4c60-8595-7c31f164fb98"
      },
      "execution_count": null,
      "outputs": [
        {
          "output_type": "stream",
          "name": "stdout",
          "text": [
            "['audi', 'BMW']\n"
          ]
        }
      ]
    },
    {
      "cell_type": "code",
      "source": [
        "fruits=['apple','grapes','cherry']\n",
        "fruits.clear()\n",
        "print(fruits)"
      ],
      "metadata": {
        "id": "Jzu9nfJwQbAJ",
        "colab": {
          "base_uri": "https://localhost:8080/"
        },
        "outputId": "042a18fb-abec-4fcf-b825-1b96a04e8c6f"
      },
      "execution_count": 11,
      "outputs": [
        {
          "output_type": "stream",
          "name": "stdout",
          "text": [
            "[]\n"
          ]
        }
      ]
    },
    {
      "cell_type": "code",
      "source": [
        "names=['jhon','ramya','mounika']\n",
        "names.remove('ramya')\n",
        "print(names)"
      ],
      "metadata": {
        "colab": {
          "base_uri": "https://localhost:8080/"
        },
        "id": "6RepNFxiQ5LA",
        "outputId": "66bb48e2-bc91-4e40-a0fd-646e53091d5b"
      },
      "execution_count": 12,
      "outputs": [
        {
          "output_type": "stream",
          "name": "stdout",
          "text": [
            "['jhon', 'mounika']\n"
          ]
        }
      ]
    },
    {
      "cell_type": "code",
      "source": [
        "cars=['BMW','ford','audi']\n",
        "cars.copy()\n",
        "print(cars)"
      ],
      "metadata": {
        "colab": {
          "base_uri": "https://localhost:8080/"
        },
        "id": "c9UW0GE1RcKW",
        "outputId": "6c746785-9fdc-4812-e121-06a0681cd323"
      },
      "execution_count": 13,
      "outputs": [
        {
          "output_type": "stream",
          "name": "stdout",
          "text": [
            "['BMW', 'ford', 'audi']\n"
          ]
        }
      ]
    },
    {
      "cell_type": "code",
      "source": [
        "cars=['audi','ford','BMW']\n",
        "x=cars.index(\"ford\")\n",
        "print(x)"
      ],
      "metadata": {
        "colab": {
          "base_uri": "https://localhost:8080/"
        },
        "id": "FxaJDqeSRsf2",
        "outputId": "b268fd4c-3596-4c9b-c7e9-69a5b08b4cc2"
      },
      "execution_count": 16,
      "outputs": [
        {
          "output_type": "stream",
          "name": "stdout",
          "text": [
            "1\n"
          ]
        }
      ]
    },
    {
      "cell_type": "code",
      "source": [
        "fruits=['banana','banana','grapes','banana']\n",
        "x=fruits.count('banana')\n",
        "print(x)"
      ],
      "metadata": {
        "colab": {
          "base_uri": "https://localhost:8080/"
        },
        "id": "b8edtyEHSU7w",
        "outputId": "d21555d1-d224-46a1-9ea0-349414275ff6"
      },
      "execution_count": 20,
      "outputs": [
        {
          "output_type": "stream",
          "name": "stdout",
          "text": [
            "3\n"
          ]
        }
      ]
    },
    {
      "cell_type": "code",
      "source": [
        "cars=['ford','audi','BMW']\n",
        "cars.reverse()\n",
        "print(cars)"
      ],
      "metadata": {
        "colab": {
          "base_uri": "https://localhost:8080/"
        },
        "id": "t8VKiHc5S6vl",
        "outputId": "ad4a8ccb-c946-4cb0-dfa9-893e61862ff4"
      },
      "execution_count": 21,
      "outputs": [
        {
          "output_type": "stream",
          "name": "stdout",
          "text": [
            "['BMW', 'audi', 'ford']\n"
          ]
        }
      ]
    },
    {
      "cell_type": "code",
      "source": [
        "cars=['Ford','BMW','Audi']\n",
        "cars.sort()\n",
        "print(cars)"
      ],
      "metadata": {
        "colab": {
          "base_uri": "https://localhost:8080/"
        },
        "id": "0vNIBct1TL34",
        "outputId": "8164ae01-8a7f-4ae3-e214-721a4e3e5c86"
      },
      "execution_count": 24,
      "outputs": [
        {
          "output_type": "stream",
          "name": "stdout",
          "text": [
            "['Audi', 'BMW', 'Ford']\n"
          ]
        }
      ]
    }
  ]
}